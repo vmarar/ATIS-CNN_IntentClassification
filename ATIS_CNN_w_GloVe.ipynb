{
 "cells": [
  {
   "cell_type": "markdown",
   "metadata": {},
   "source": [
    "## Airline Chat Intent Classification"
   ]
  },
  {
   "cell_type": "markdown",
   "metadata": {},
   "source": [
    "The dataset is from the ATIS Travel Information System and is widely used as a benchmark for Intent Classification.\n",
    "Intent Classification is part of Natural Language Understanding(NLU) and is a necessary component of any chatbot. The dataset is already split into test and train, and has two columns, one of text and the other with its respective label. \n",
    "***"
   ]
  },
  {
   "cell_type": "code",
   "execution_count": 49,
   "metadata": {},
   "outputs": [
    {
     "data": {
      "text/plain": [
       "''"
      ]
     },
     "execution_count": 49,
     "metadata": {},
     "output_type": "execute_result"
    }
   ],
   "source": [
    "import pandas as pd \n",
    "import numpy as np\n",
    "import matplotlib.pyplot as plt\n",
    "%matplotlib inline\n",
    "from scipy import spatial\n",
    "from nltk.corpus import stopwords\n",
    "from nltk.tokenize import word_tokenize\n",
    "from keras.preprocessing.sequence import pad_sequences\n",
    "from keras.utils.np_utils import to_categorical\n",
    "from keras.layers.embeddings import Embedding\n",
    "from keras.layers import Flatten, LSTM, Conv1D, MaxPooling1D, Dropout, Activation\n",
    "from keras.layers import Input, Dense\n",
    "from keras.models import Sequential\n",
    "from sklearn.metrics import classification_report\n",
    "from sklearn import preprocessing\n",
    "from sklearn.model_selection import train_test_split\n",
    "from sklearn.manifold import TSNE"
   ]
  },
  {
   "cell_type": "code",
   "execution_count": 58,
   "metadata": {},
   "outputs": [],
   "source": [
    "train_data = pd.read_csv('atis-airlinetravelinformationsystem/atis_intents_train.csv')\n",
    "test_data = pd.read_csv('atis-airlinetravelinformationsystem/atis_intents_test.csv')"
   ]
  },
  {
   "cell_type": "code",
   "execution_count": 59,
   "metadata": {},
   "outputs": [],
   "source": [
    "#test_data.head\n",
    "#train_data.describe"
   ]
  },
  {
   "cell_type": "markdown",
   "metadata": {},
   "source": [
    "#### Data Preprocessing "
   ]
  },
  {
   "cell_type": "code",
   "execution_count": 60,
   "metadata": {},
   "outputs": [
    {
     "name": "stdout",
     "output_type": "stream",
     "text": [
      "Renaming Columns, removing stopwords and numbers, seperating train and tests Labels and Text.\n",
      "Number of Classes :  8\n",
      "Number of training entries : 4833\n",
      "Number of testing entries : 799\n"
     ]
    }
   ],
   "source": [
    "train_data.rename(columns={'atis_flight':'Label',' i want to fly from boston at 838 am and arrive in denver at 1110 in the morning':'Text'}, inplace=True)\n",
    "test_data.rename(columns={'atis_flight':'Label',' i would like to find a flight from charlotte to las vegas that makes a stop in st. louis':'Text'}, inplace=True)\n",
    "\n",
    "words = set(stopwords.words('english'))\n",
    "train_data['Text']=train_data['Text'].apply(lambda x:' '.join([word for word in x.split()if word not in (words)]))\n",
    "train_data['Text']= train_data['Text'].str.replace('\\d+','')\n",
    "test_data['Text']=test_data['Text'].apply(lambda x:' '.join([word for word in x.split()if word not in (words)]))\n",
    "test_data['Text']= test_data['Text'].str.replace('\\d+','')\n",
    "\n",
    "\n",
    "text = train_data['Text']\n",
    "labels = train_data['Label']\n",
    "test_text = test_data['Text']\n",
    "test_labels = test_data['Label']\n",
    "\n",
    "print('Renaming Columns, removing stopwords and numbers, seperating train and tests Labels and Text.')\n",
    "print('Number of Classes : ',labels.nunique())\n",
    "print('Number of training entries :',len(text.index))\n",
    "print('Number of testing entries :',len(test_text.index))"
   ]
  },
  {
   "cell_type": "code",
   "execution_count": 61,
   "metadata": {},
   "outputs": [
    {
     "name": "stdout",
     "output_type": "stream",
     "text": [
      "Word Index/Vocabulary size : 631\n",
      "Max Input Size: 25 \n",
      "Train:  (4833, 25)  Test:  (799, 25)\n"
     ]
    }
   ],
   "source": [
    "from keras.preprocessing.text import Tokenizer\n",
    "t= Tokenizer()\n",
    "t.fit_on_texts(text)\n",
    "print('Word Index/Vocabulary size :',len(t.word_index))\n",
    "word_index = t.word_index\n",
    "\n",
    "max_vocab_size = len(word_index)+1\n",
    "input_length = 25\n",
    "print('Max Input Size: 25 ')\n",
    "\n",
    "\n",
    "train_data_tokens = t.texts_to_sequences(text)\n",
    "train_input = pad_sequences(train_data_tokens, input_length)\n",
    "test_data_tokens = t.texts_to_sequences(test_text)\n",
    "test_input = pad_sequences(test_data_tokens,input_length)\n",
    "\n",
    "print('Train: ',train_input.shape,' Test: ',test_input.shape)"
   ]
  },
  {
   "cell_type": "code",
   "execution_count": 62,
   "metadata": {},
   "outputs": [
    {
     "name": "stdout",
     "output_type": "stream",
     "text": [
      "Encoding labels and saving encoder model so assignments are same across train and test datasets.\n",
      "Example of labels after encoding :  [0. 0. 0. 0. 0. 1. 0. 0.]\n"
     ]
    }
   ],
   "source": [
    "label_transformer = preprocessing.LabelEncoder()\n",
    "label_transformer.fit(labels)\n",
    "\n",
    "from sklearn.externals import joblib\n",
    "joblib.dump(label_transformer, 'atis-airlinetravelinformationsystem/label_encoder.pk1')\n",
    "\n",
    "labels = label_transformer.transform(labels)\n",
    "test_labels = label_transformer.transform(test_labels)\n",
    "\n",
    "labels = to_categorical(np.asarray(labels))\n",
    "test_labels = to_categorical(np.asarray(test_labels))\n",
    "\n",
    "print('Encoding labels and saving encoder model so assignments are same across train and test datasets.')\n",
    "print('Example of labels after encoding : ',labels[1])"
   ]
  },
  {
   "cell_type": "code",
   "execution_count": 8,
   "metadata": {},
   "outputs": [
    {
     "name": "stdout",
     "output_type": "stream",
     "text": [
      "Splitting train and test : (3866, 25) (967, 25) (3866, 8) (967, 8)\n"
     ]
    }
   ],
   "source": [
    "X_train, X_val, y_train, y_val  = train_test_split(train_input, labels, test_size=0.2, random_state=1)\n",
    "print('Splitting train and test :',X_train.shape, X_val.shape, y_train.shape, y_val.shape )"
   ]
  },
  {
   "cell_type": "markdown",
   "metadata": {},
   "source": [
    "#### Extracting Word Embeddings and Creating a Embedding Matrix"
   ]
  },
  {
   "cell_type": "code",
   "execution_count": 9,
   "metadata": {},
   "outputs": [
    {
     "name": "stdout",
     "output_type": "stream",
     "text": [
      "Glove dict size : 1917495\n",
      "Embedded Matrix is ready to be loaded into Model \n"
     ]
    }
   ],
   "source": [
    "embedded_dim = 300\n",
    "embedded_index = dict()\n",
    "with open ('glove.42B.300d.txt','r',encoding='utf8') as glove : \n",
    "    for line in glove:\n",
    "        values = line.split()\n",
    "        word = values[0]\n",
    "        vector = np.asarray(values[1:],dtype='float32')\n",
    "        embedded_index[word] = vector\n",
    "glove.close()\n",
    "\n",
    "print('Glove dict size :' ,len(embedded_index))\n",
    "\n",
    "embedded_matrix = np.zeros((max_vocab_size, embedded_dim))\n",
    "for x , i in word_index.items():\n",
    "    vector = embedded_index.get(x)\n",
    "    if vector is not None:\n",
    "        embedded_matrix[i] = vector\n",
    "\n",
    "print('Embedded Matrix is ready to be loaded into Model ')\n"
   ]
  },
  {
   "cell_type": "markdown",
   "metadata": {},
   "source": [
    "#### Visualizing Word Embeddings Using T-SNE"
   ]
  },
  {
   "cell_type": "code",
   "execution_count": 10,
   "metadata": {},
   "outputs": [
    {
     "name": "stdout",
     "output_type": "stream",
     "text": [
      "['plane', 'flying', 'airline', 'airplane', 'flights', 'pilots', 'fly', 'flew', 'appelectric']\n"
     ]
    }
   ],
   "source": [
    "def similarity_check(embedding):\n",
    "    return sorted(embedded_index.keys(), key=lambda x: spatial.distance.euclidean(embedded_index[x],embedding))\n",
    "example = similarity_check(embedded_index['flight'])[1:10]\n",
    "print(example)"
   ]
  },
  {
   "cell_type": "code",
   "execution_count": 71,
   "metadata": {},
   "outputs": [
    {
     "data": {
      "image/png": "[encoded data removed]",
      "text/plain": [
       "<Figure size 432x288 with 1 Axes>"
      ]
     },
     "metadata": {
      "needs_background": "light"
     },
     "output_type": "display_data"
    }
   ],
   "source": [
    "tsne = TSNE(n_components=2, random_state=0)\n",
    "vectorized = [embedded_index[word] for words in example]\n",
    "Y = tsne.fit_transform(vectorized)\n",
    "\n",
    "fig, ax = plt.subplots()\n",
    "ax.plot(Y[:, 0], Y[:, 1], 'o')\n",
    "ax.set_title('Eucledian Distance of Words Relating to \"Flight\"')\n",
    "for i, word in enumerate(example):\n",
    "     plt.annotate(word, xy=(Y[i, 0], Y[i, 1]))"
   ]
  },
  {
   "cell_type": "markdown",
   "metadata": {},
   "source": [
    "#### Creating our Model "
   ]
  },
  {
   "cell_type": "code",
   "execution_count": 50,
   "metadata": {
    "scrolled": true
   },
   "outputs": [
    {
     "name": "stdout",
     "output_type": "stream",
     "text": [
      "Model: \"sequential_2\"\n",
      "_________________________________________________________________\n",
      "Layer (type)                 Output Shape              Param #   \n",
      "=================================================================\n",
      "embedding_2 (Embedding)      (None, 25, 300)           189600    \n",
      "_________________________________________________________________\n",
      "conv1d_2 (Conv1D)            (None, 18, 32)            76832     \n",
      "_________________________________________________________________\n",
      "max_pooling1d_2 (MaxPooling1 (None, 9, 32)             0         \n",
      "_________________________________________________________________\n",
      "flatten_2 (Flatten)          (None, 288)               0         \n",
      "_________________________________________________________________\n",
      "dense_3 (Dense)              (None, 10)                2890      \n",
      "_________________________________________________________________\n",
      "dense_4 (Dense)              (None, 8)                 88        \n",
      "=================================================================\n",
      "Total params: 269,410\n",
      "Trainable params: 79,810\n",
      "Non-trainable params: 189,600\n",
      "_________________________________________________________________\n",
      "None\n"
     ]
    }
   ],
   "source": [
    "model = Sequential()\n",
    "model.add(Embedding(max_vocab_size, 300, input_length= input_length, weights=[embedded_matrix],trainable=False))\n",
    "model.add(Conv1D(filters=32, kernel_size=8, activation='selu'))\n",
    "model.add(MaxPooling1D(pool_size=2))\n",
    "model.add(Flatten())\n",
    "model.add(Dense(10, activation='selu'))\n",
    "model.add(Dense(8, activation='sigmoid'))\n",
    "print(model.summary())"
   ]
  },
  {
   "cell_type": "code",
   "execution_count": 51,
   "metadata": {},
   "outputs": [
    {
     "name": "stdout",
     "output_type": "stream",
     "text": [
      "Epoch 1/5\n",
      " - 6s - loss: 0.7200 - accuracy: 0.8163\n",
      "Epoch 2/5\n",
      " - 3s - loss: 0.2461 - accuracy: 0.9346\n",
      "Epoch 3/5\n",
      " - 3s - loss: 0.1135 - accuracy: 0.9747\n",
      "Epoch 4/5\n",
      " - 3s - loss: 0.0544 - accuracy: 0.9899\n",
      "Epoch 5/5\n",
      " - 3s - loss: 0.0277 - accuracy: 0.9961\n"
     ]
    },
    {
     "data": {
      "text/plain": [
       "<keras.callbacks.callbacks.History at 0x16d6a9490>"
      ]
     },
     "execution_count": 51,
     "metadata": {},
     "output_type": "execute_result"
    }
   ],
   "source": [
    "model.compile(loss='categorical_crossentropy',optimizer='adam', metrics=['accuracy'])\n",
    "model.fit(X_train,y_train, epochs=5, verbose=2)"
   ]
  },
  {
   "cell_type": "code",
   "execution_count": 52,
   "metadata": {},
   "outputs": [
    {
     "name": "stdout",
     "output_type": "stream",
     "text": [
      "967/967 [==============================] - 1s 543us/step\n"
     ]
    },
    {
     "data": {
      "text/plain": [
       "[0.14366027310821916, 0.9679421186447144]"
      ]
     },
     "execution_count": 52,
     "metadata": {},
     "output_type": "execute_result"
    }
   ],
   "source": [
    "model.evaluate(X_val,y_val)"
   ]
  },
  {
   "cell_type": "code",
   "execution_count": 53,
   "metadata": {},
   "outputs": [
    {
     "name": "stdout",
     "output_type": "stream",
     "text": [
      "Accuracy score on testing data:  0.9824780976220275\n"
     ]
    }
   ],
   "source": [
    "def acc(y_true, y_pred):\n",
    "    return np.equal(np.argmax(y_true, axis=-1), np.argmax(y_pred, axis=-1)).mean()\n",
    "predictions = model.predict(test_input)\n",
    "print('Accuracy score on testing data: ',acc(test_labels,predictions))"
   ]
  },
  {
   "cell_type": "markdown",
   "metadata": {},
   "source": [
    "#### Understanding The Classification Report"
   ]
  },
  {
   "cell_type": "code",
   "execution_count": 55,
   "metadata": {},
   "outputs": [
    {
     "name": "stdout",
     "output_type": "stream",
     "text": [
      "              precision    recall  f1-score   support\n",
      "\n",
      "           0       0.94      1.00      0.97        33\n",
      "           1       1.00      0.56      0.71         9\n",
      "           2       0.98      0.92      0.95        48\n",
      "           3       0.97      0.95      0.96        38\n",
      "           4       0.99      0.99      0.99       631\n",
      "           5       1.00      1.00      1.00         1\n",
      "           6       0.97      1.00      0.99        36\n",
      "           7       0.60      1.00      0.75         3\n",
      "\n",
      "    accuracy                           0.98       799\n",
      "   macro avg       0.93      0.93      0.91       799\n",
      "weighted avg       0.98      0.98      0.98       799\n",
      "\n",
      "We have 98% Accuray on testing data ! \n"
     ]
    }
   ],
   "source": [
    "rounded_pred=np.argmax(predictions,axis=1)\n",
    "rounded_labels=np.argmax(test_labels, axis=1)\n",
    "print(classification_report(rounded_labels,rounded_pred))\n",
    "print('We have 98% Accuray on testing data ! ')"
   ]
  }
 ],
 "metadata": {
  "kernelspec": {
   "display_name": "Python 3",
   "language": "python",
   "name": "python3"
  },
  "language_info": {
   "codemirror_mode": {
    "name": "ipython",
    "version": 3
   },
   "file_extension": ".py",
   "mimetype": "text/x-python",
   "name": "python",
   "nbconvert_exporter": "python",
   "pygments_lexer": "ipython3",
   "version": "3.7.4"
  }
 },
 "nbformat": 4,
 "nbformat_minor": 2
}
